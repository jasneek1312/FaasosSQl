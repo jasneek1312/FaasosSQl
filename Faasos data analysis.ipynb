{
 "cells": [
  {
   "cell_type": "code",
   "execution_count": null,
   "metadata": {},
   "outputs": [],
   "source": [
    "import pandas as pd\n",
    "\n",
    "# Load your dataset\n",
    "data = pd.read_csv('faasos_user_engagement_data.csv')\n",
    "\n",
    "# Preview the data\n",
    "print(data.head())\n",
    "\n",
    "# Convert date columns to datetime format\n",
    "data['signup_date'] = pd.to_datetime(data['signup_date'])\n",
    "data['last_login'] = pd.to_datetime(data['last_login'])\n",
    "\n"
   ]
  },
  {
   "cell_type": "code",
   "execution_count": null,
   "metadata": {},
   "outputs": [],
   "source": [
    "# Group by sign-up date to see downloads over time\n",
    "downloads = data.groupby(data['signup_date'].dt.date)['user_id'].count()\n",
    "\n",
    "# Plot app downloads trend\n",
    "import matplotlib.pyplot as plt\n",
    "\n",
    "plt.figure(figsize=(10,6))\n",
    "downloads.plot(kind='line', color='blue')\n",
    "plt.title('App Downloads Over Time')\n",
    "plt.xlabel('Date')\n",
    "plt.ylabel('Number of Downloads')\n",
    "plt.grid(True)\n",
    "plt.show()\n"
   ]
  },
  {
   "cell_type": "code",
   "execution_count": null,
   "metadata": {},
   "outputs": [],
   "source": [
    "# Calculate the average session duration\n",
    "avg_session_duration = data['session_duration'].mean()\n",
    "print(f'Average session duration: {avg_session_duration} seconds')\n",
    "\n",
    "# Session count by user\n",
    "user_sessions = data.groupby('user_id')['session_duration'].count()\n",
    "\n",
    "# Plot user session distribution\n",
    "plt.figure(figsize=(10,6))\n",
    "user_sessions.plot(kind='hist', bins=30, color='green')\n",
    "plt.title('Distribution of User Sessions')\n",
    "plt.xlabel('Number of Sessions')\n",
    "plt.ylabel('Frequency')\n",
    "plt.grid(True)\n",
    "plt.show()\n"
   ]
  },
  {
   "cell_type": "code",
   "execution_count": null,
   "metadata": {},
   "outputs": [],
   "source": [
    "# Calculate retention rate\n",
    "data['days_since_last_login'] = (pd.to_datetime('today') - data['last_login']).dt.days\n",
    "retained_users = data[data['days_since_last_login'] <= 30]  # Define \"active\" as logged in within 30 days\n",
    "retention_rate = len(retained_users) / len(data) * 100\n",
    "print(f'Retention Rate: {retention_rate:.2f}%')\n",
    "\n",
    "# Churn rate (users who have not returned for a long time)\n",
    "churned_users = data[data['days_since_last_login'] > 60]  # Define \"churned\" as 60 days of inactivity\n",
    "churn_rate = len(churned_users) / len(data) * 100\n",
    "print(f'Churn Rate: {churn_rate:.2f}%')\n"
   ]
  },
  {
   "cell_type": "code",
   "execution_count": null,
   "metadata": {},
   "outputs": [],
   "source": [
    "# Daily Active Users (DAU)\n",
    "dau = data.groupby(data['last_login'].dt.date)['user_id'].nunique()\n",
    "\n",
    "# Weekly Active Users (WAU)\n",
    "data['week'] = data['last_login'].dt.isocalendar().week\n",
    "wau = data.groupby('week')['user_id'].nunique()\n",
    "\n",
    "# Monthly Active Users (MAU)\n",
    "data['month'] = data['last_login'].dt.month\n",
    "mau = data.groupby('month')['user_id'].nunique()\n",
    "\n",
    "# Plot DAU, WAU, MAU\n",
    "plt.figure(figsize=(10,6))\n",
    "dau.plot(label='DAU', color='orange')\n",
    "wau.plot(label='WAU', color='blue')\n",
    "mau.plot(label='MAU', color='green')\n",
    "plt.title('Active Users Over Time (DAU, WAU, MAU)')\n",
    "plt.xlabel('Time')\n",
    "plt.ylabel('Number of Active Users')\n",
    "plt.legend()\n",
    "plt.grid(True)\n",
    "plt.show()\n"
   ]
  },
  {
   "cell_type": "code",
   "execution_count": null,
   "metadata": {},
   "outputs": [],
   "source": [
    "# Define key actions for conversion, like placing an order\n",
    "conversions = data[data['action_type'] == 'order']\n",
    "\n",
    "# Calculate the conversion rate\n",
    "conversion_rate = len(conversions) / len(data) * 100\n",
    "print(f'Conversion Rate: {conversion_rate:.2f}%')\n"
   ]
  },
  {
   "cell_type": "code",
   "execution_count": null,
   "metadata": {},
   "outputs": [],
   "source": [
    "# Group users by device type and calculate counts\n",
    "device_counts = data['device_type'].value_counts()\n",
    "\n",
    "# Plot device type distribution\n",
    "device_counts.plot(kind='bar', color='purple')\n",
    "plt.title('User Device Type Distribution')\n",
    "plt.xlabel('Device Type')\n",
    "plt.ylabel('Number of Users')\n",
    "plt.grid(True)\n",
    "plt.show()\n"
   ]
  }
 ],
 "metadata": {
  "language_info": {
   "name": "python"
  }
 },
 "nbformat": 4,
 "nbformat_minor": 2
}
